{
 "cells": [
  {
   "cell_type": "code",
   "execution_count": 7,
   "metadata": {},
   "outputs": [
    {
     "data": {
      "text/plain": [
       "array(['female', 'male'],\n",
       "      dtype='<U6')"
      ]
     },
     "execution_count": 7,
     "metadata": {},
     "output_type": "execute_result"
    }
   ],
   "source": [
    "from sklearn import tree\n",
    "\n",
    "# altura, peso, numero do tenis\n",
    "atributos_pessoais = [[1.80, 40.0, 40], [1.60, 53.0, 30], [1.54, 63.0, 30], [1.70, 63.0, 42]]\n",
    "\n",
    "sexo = ['male', 'female', 'female', 'male']\n",
    "clf =  tree.DecisionTreeClassifier()\n",
    "clf = clf.fit(atributos_pessoais, sexo)\n",
    "\n",
    "# Vai predizer se o sexo e masculino ou feminino\n",
    "prediction = clf.predict([[1.60, 45.0, 32], [1.80, 60, 45]])\n",
    "prediction"
   ]
  }
 ],
 "metadata": {
  "kernelspec": {
   "display_name": "Python 3",
   "language": "python",
   "name": "python3"
  },
  "language_info": {
   "codemirror_mode": {
    "name": "ipython",
    "version": 3
   },
   "file_extension": ".py",
   "mimetype": "text/x-python",
   "name": "python",
   "nbconvert_exporter": "python",
   "pygments_lexer": "ipython3",
   "version": "3.6.2"
  }
 },
 "nbformat": 4,
 "nbformat_minor": 2
}
